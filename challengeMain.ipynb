{
 "cells": [
  {
   "cell_type": "markdown",
   "metadata": {},
   "source": [
    "**MAIN BODY OF DATA CLEANING**"
   ]
  },
  {
   "cell_type": "code",
   "execution_count": 13,
   "metadata": {},
   "outputs": [],
   "source": [
    "from sklearn.model_selection import train_test_split\n",
    "from sklearn.ensemble import AdaBoostClassifier\n",
    "from sklearn.tree import DecisionTreeClassifier\n",
    "from sklearn.decomposition import PCA\n",
    "from sklearn.metrics import accuracy_score\n",
    "from sklearn.naive_bayes import GaussianNB\n",
    "import pandas\n",
    "\n",
    "import functions as f\n",
    "import classes as c"
   ]
  },
  {
   "cell_type": "code",
   "execution_count": 14,
   "metadata": {},
   "outputs": [
    {
     "name": "stderr",
     "output_type": "stream",
     "text": [
      "/Users/wiktorkowalczyk/Desktop/Personal/Code/github/machine_learning/Challenge/functions.py:87: SettingWithCopyWarning: \n",
      "A value is trying to be set on a copy of a slice from a DataFrame.\n",
      "Try using .loc[row_indexer,col_indexer] = value instead\n",
      "\n",
      "See the caveats in the documentation: https://pandas.pydata.org/pandas-docs/stable/user_guide/indexing.html#returning-a-view-versus-a-copy\n",
      "  dataframe[column_name] = pandas.to_numeric(dataframe[column_name], errors='coerce')\n",
      "/Users/wiktorkowalczyk/Desktop/Personal/Code/github/machine_learning/Challenge/functions.py:223: SettingWithCopyWarning: \n",
      "A value is trying to be set on a copy of a slice from a DataFrame.\n",
      "Try using .loc[row_indexer,col_indexer] = value instead\n",
      "\n",
      "See the caveats in the documentation: https://pandas.pydata.org/pandas-docs/stable/user_guide/indexing.html#returning-a-view-versus-a-copy\n",
      "  dataframe['x12'] = dataframe['x12'].astype(bool)\n"
     ]
    }
   ],
   "source": [
    "df = f.getDataFrame(\"TrainOnMe.csv\")\n",
    "cleared_dataframe = f.clearData(df)[0]\n",
    "#f.writeToCsv(cleared_dataframe, \"ClearedSet.csv\")"
   ]
  },
  {
   "cell_type": "code",
   "execution_count": 15,
   "metadata": {},
   "outputs": [],
   "source": [
    "training_inputs, training_targets = f.extractData(cleared_dataframe)"
   ]
  },
  {
   "cell_type": "code",
   "execution_count": 16,
   "metadata": {},
   "outputs": [],
   "source": [
    "# Get the training and testing data sets\n",
    "X_train, X_test, y_train, y_test = train_test_split(training_inputs, training_targets, test_size=0.5)"
   ]
  },
  {
   "cell_type": "markdown",
   "metadata": {},
   "source": [
    "**Boosted Decision Tree Classifier | NO CROSS VALIDATION**"
   ]
  },
  {
   "cell_type": "code",
   "execution_count": 17,
   "metadata": {},
   "outputs": [
    {
     "name": "stdout",
     "output_type": "stream",
     "text": [
      "Accuracy: 83.57%\n"
     ]
    }
   ],
   "source": [
    "pca = PCA(n_components=11)  # Adjust the number of components as needed\n",
    "X_train_pca = pca.fit_transform(X_train)\n",
    "X_test_pca = pca.transform(X_test)\n",
    "\n",
    "# Create an AdaBoostClassifier with a DecisionTree base estimator\n",
    "base_estimator = DecisionTreeClassifier(max_depth=5)\n",
    "ada_clf = AdaBoostClassifier(estimator=base_estimator, n_estimators=80)\n",
    "\n",
    "# Fit the model to the training data\n",
    "ada_clf.fit(X_train_pca, y_train)\n",
    "\n",
    "# Make predictions on the test set\n",
    "y_pred = ada_clf.predict(X_test_pca)\n",
    "\n",
    "# Evaluate the classifier\n",
    "accuracy = accuracy_score(y_test, y_pred)\n",
    "accuracy_percent = accuracy * 100\n",
    "print(f'Accuracy: {accuracy_percent:.2f}%')"
   ]
  },
  {
   "cell_type": "markdown",
   "metadata": {},
   "source": [
    "**Classify the EvaluateOnMe.csv** |\n",
    "**Boosted Decision Tree Classifier**"
   ]
  },
  {
   "cell_type": "code",
   "execution_count": 18,
   "metadata": {},
   "outputs": [],
   "source": [
    "def testDTClassifier(training_inputs, training_targets, estimators=50, components=11, depth=5):\n",
    "    X_train, X_test, y_train, y_test = train_test_split(training_inputs, training_targets, test_size=0.7)\n",
    "    # Create an instance of the BoostedGaussianNaiveBayesClassifier\n",
    "    boosted_dt_classifier = c.BoostedDecisionTreeClassifier(n_estimators=estimators, n_components=components, max_depth=depth)\n",
    "\n",
    "    # Fit the classifier on the training data\n",
    "    boosted_dt_classifier.fit(X_train, y_train)\n",
    "\n",
    "    # Make predictions on the testing data\n",
    "    predicted_labels = boosted_dt_classifier.predict(X_test)\n",
    "\n",
    "    # Calculate the accuracy\n",
    "    accuracy = accuracy_score(y_test, predicted_labels)\n",
    "    accuracy *= 100\n",
    "    return accuracy"
   ]
  },
  {
   "cell_type": "code",
   "execution_count": 19,
   "metadata": {},
   "outputs": [
    {
     "name": "stderr",
     "output_type": "stream",
     "text": [
      "/Users/wiktorkowalczyk/Desktop/Personal/Code/github/machine_learning/Challenge/functions.py:87: SettingWithCopyWarning: \n",
      "A value is trying to be set on a copy of a slice from a DataFrame.\n",
      "Try using .loc[row_indexer,col_indexer] = value instead\n",
      "\n",
      "See the caveats in the documentation: https://pandas.pydata.org/pandas-docs/stable/user_guide/indexing.html#returning-a-view-versus-a-copy\n",
      "  dataframe[column_name] = pandas.to_numeric(dataframe[column_name], errors='coerce')\n",
      "/Users/wiktorkowalczyk/Desktop/Personal/Code/github/machine_learning/Challenge/functions.py:223: SettingWithCopyWarning: \n",
      "A value is trying to be set on a copy of a slice from a DataFrame.\n",
      "Try using .loc[row_indexer,col_indexer] = value instead\n",
      "\n",
      "See the caveats in the documentation: https://pandas.pydata.org/pandas-docs/stable/user_guide/indexing.html#returning-a-view-versus-a-copy\n",
      "  dataframe['x12'] = dataframe['x12'].astype(bool)\n"
     ]
    },
    {
     "name": "stdout",
     "output_type": "stream",
     "text": [
      "Total Accuracy: 82.50357653791133\n"
     ]
    }
   ],
   "source": [
    "# Sample data - replace this with your dataset\n",
    "test_df = f.getDataFrame(\"TrainOnMe.csv\")\n",
    "test_cleared_dataframe, y_val, x_val = f.clearData(test_df)\n",
    "test_training_inputs, test_training_targets = f.extractData(test_cleared_dataframe)\n",
    "\n",
    "total_score = 0.0\n",
    "for i in range(100):\n",
    "    total_score += testDTClassifier(test_training_inputs, test_training_targets, estimators=80, components=12, depth=5)\n",
    "print(f\"\"\"Total Accuracy: {total_score/100.0}\"\"\")"
   ]
  },
  {
   "cell_type": "code",
   "execution_count": 20,
   "metadata": {},
   "outputs": [
    {
     "name": "stderr",
     "output_type": "stream",
     "text": [
      "/Users/wiktorkowalczyk/Desktop/Personal/Code/github/machine_learning/Challenge/functions.py:87: SettingWithCopyWarning: \n",
      "A value is trying to be set on a copy of a slice from a DataFrame.\n",
      "Try using .loc[row_indexer,col_indexer] = value instead\n",
      "\n",
      "See the caveats in the documentation: https://pandas.pydata.org/pandas-docs/stable/user_guide/indexing.html#returning-a-view-versus-a-copy\n",
      "  dataframe[column_name] = pandas.to_numeric(dataframe[column_name], errors='coerce')\n",
      "/Users/wiktorkowalczyk/Desktop/Personal/Code/github/machine_learning/Challenge/functions.py:223: SettingWithCopyWarning: \n",
      "A value is trying to be set on a copy of a slice from a DataFrame.\n",
      "Try using .loc[row_indexer,col_indexer] = value instead\n",
      "\n",
      "See the caveats in the documentation: https://pandas.pydata.org/pandas-docs/stable/user_guide/indexing.html#returning-a-view-versus-a-copy\n",
      "  dataframe['x12'] = dataframe['x12'].astype(bool)\n"
     ]
    }
   ],
   "source": [
    "# create the classifier object\n",
    "decision_tree_classifier = c.BoostedDecisionTreeClassifier(n_estimators=80, max_depth=5, n_components=12)\n",
    "\n",
    "# get the training data again from the file\n",
    "df = f.getDataFrame(\"TrainOnMe.csv\")\n",
    "cleared_dataframe = f.clearData(df)[0]\n",
    "#f.writeToCsv(cleared_dataframe, \"ClearedSet.csv\")\n",
    "training_inputs, training_targets = f.extractData(cleared_dataframe)\n",
    "# fit the classifier to the training data\n",
    "decision_tree_classifier.fit(training_inputs, training_targets)"
   ]
  },
  {
   "cell_type": "code",
   "execution_count": 21,
   "metadata": {},
   "outputs": [
    {
     "name": "stderr",
     "output_type": "stream",
     "text": [
      "/Users/wiktorkowalczyk/Desktop/Personal/Code/github/machine_learning/Challenge/functions.py:87: SettingWithCopyWarning: \n",
      "A value is trying to be set on a copy of a slice from a DataFrame.\n",
      "Try using .loc[row_indexer,col_indexer] = value instead\n",
      "\n",
      "See the caveats in the documentation: https://pandas.pydata.org/pandas-docs/stable/user_guide/indexing.html#returning-a-view-versus-a-copy\n",
      "  dataframe[column_name] = pandas.to_numeric(dataframe[column_name], errors='coerce')\n",
      "/Users/wiktorkowalczyk/Desktop/Personal/Code/github/machine_learning/Challenge/functions.py:223: SettingWithCopyWarning: \n",
      "A value is trying to be set on a copy of a slice from a DataFrame.\n",
      "Try using .loc[row_indexer,col_indexer] = value instead\n",
      "\n",
      "See the caveats in the documentation: https://pandas.pydata.org/pandas-docs/stable/user_guide/indexing.html#returning-a-view-versus-a-copy\n",
      "  dataframe['x12'] = dataframe['x12'].astype(bool)\n"
     ]
    }
   ],
   "source": [
    "# create the classifier object\n",
    "decision_tree_classifier = c.BoostedDecisionTreeClassifier(n_estimators=80, max_depth=5, n_components=12)\n",
    "\n",
    "# get the training data again from the file\n",
    "df = f.getDataFrame(\"TrainOnMe.csv\")\n",
    "cleared_dataframe, y_val, x_val = f.clearData(df)\n",
    "#f.writeToCsv(cleared_dataframe, \"ClearedSet.csv\")\n",
    "training_inputs, training_targets = f.extractData(cleared_dataframe)\n",
    "# fit the classifier to the training data\n",
    "decision_tree_classifier.fit(training_inputs, training_targets)"
   ]
  },
  {
   "cell_type": "code",
   "execution_count": 22,
   "metadata": {},
   "outputs": [],
   "source": [
    "# predict the labels using the optimal boosted decision tree classifier\n",
    "data_to_classify = f.getDataFrame(\"EvaluateOnMe.csv\")\n",
    "# handle data to classify: change the string values to make it possible to calssify\n",
    "data_to_classify = f.clearDataToClassify(data_to_classify, x_val)\n",
    "#writeToCsv(data_to_classify, \"dataToClassifyCleared.csv\")\n",
    "inputs_to_classify = f.extractDataToClassify(data_to_classify)[0]"
   ]
  },
  {
   "cell_type": "code",
   "execution_count": 23,
   "metadata": {},
   "outputs": [],
   "source": [
    "# predict the labels using the classifier\n",
    "predictions = decision_tree_classifier.predict(inputs_to_classify)"
   ]
  },
  {
   "cell_type": "code",
   "execution_count": 24,
   "metadata": {},
   "outputs": [],
   "source": [
    "# write the labels to a text file for grading\n",
    "#f.write_labels_to_file(f.reverseTargetAssignment(predictions), \"Labels.txt\")"
   ]
  }
 ],
 "metadata": {
  "kernelspec": {
   "display_name": "Python 3 (ipykernel)",
   "language": "python",
   "name": "python3"
  },
  "language_info": {
   "codemirror_mode": {
    "name": "ipython",
    "version": 3
   },
   "file_extension": ".py",
   "mimetype": "text/x-python",
   "name": "python",
   "nbconvert_exporter": "python",
   "pygments_lexer": "ipython3",
   "version": "3.11.4"
  },
  "vscode": {
   "interpreter": {
    "hash": "6feb98f127bf4ece1f9cfb2be77a6e249974be563538449934d65557d42256ed"
   }
  }
 },
 "nbformat": 4,
 "nbformat_minor": 4
}
